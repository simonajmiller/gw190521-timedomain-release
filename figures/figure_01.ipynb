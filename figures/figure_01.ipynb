{
 "cells": [
  {
   "cell_type": "markdown",
   "id": "c789c611-56d8-4ce1-ac87-3bd7557df8b2",
   "metadata": {},
   "source": [
    "# Notebook to make Fig. 1"
   ]
  },
  {
   "cell_type": "code",
   "execution_count": 0,
   "id": "8c460e06-7fae-438f-be1f-67b5c5c869d8",
   "metadata": {
    "tags": []
   },
   "outputs": [
    {
     "name": "stderr",
     "output_type": "stream",
     "text": [
      "PyCBC.libutils: pkg-config call failed, setting NO_PKGCONFIG=1\n"
     ]
    }
   ],
   "source": [
    "# Import necessary packages & set-up plotting aesthetics\n",
    "\n",
    "import numpy as np \n",
    "import pylab\n",
    "import pandas as pd\n",
    "import lal\n",
    "from scipy.stats import gaussian_kde\n",
    "import importlib\n",
    "\n",
    "import matplotlib\n",
    "%matplotlib inline\n",
    "%config InlineBackend.figure_format = 'retina'\n",
    "import matplotlib.pyplot as plt\n",
    "from matplotlib import style\n",
    "from matplotlib.lines import Line2D\n",
    "\n",
    "import seaborn as sns\n",
    "cp = sns.color_palette('muted')\n",
    "cp2 = sns.color_palette('pastel')\n",
    "\n",
    "import sys\n",
    "sys.path.append('../scripts')\n",
    "from helper_functions import *\n",
    "sys.path.append('../utils')\n",
    "import reconstructwf as rwf\n",
    "\n",
    "style.use('plotting.mplstyle')\n",
    "\n",
    "data_dir = '../data/' "
   ]
  },
  {
   "cell_type": "markdown",
   "id": "39ec2b72-a415-4108-8cf3-98760ebbb9b9",
   "metadata": {},
   "source": [
    "### Load in data: posteriors"
   ]
  },
  {
   "cell_type": "markdown",
   "id": "6a4d1b7b-1471-4f8a-ac1d-0ce72d34e3b4",
   "metadata": {},
   "source": [
    "Load in posterior and prior samples"
   ]
  },
  {
   "cell_type": "code",
   "execution_count": 1,
   "id": "c1621a1a",
   "metadata": {},
   "outputs": [],
   "source": [
    "td_samples = load_posterior_samples(data_dir)[0]"
   ]
  },
  {
   "cell_type": "markdown",
   "id": "b18e4c51-4be0-4364-8878-a6dbcc734c2e",
   "metadata": {},
   "source": [
    "Generate KDE for $\\chi_\\mathrm{p}$ from the full run and the prior, for comparison "
   ]
  },
  {
   "cell_type": "code",
   "execution_count": 2,
   "id": "221c1625-049f-421b-8a86-400513c4f005",
   "metadata": {
    "tags": []
   },
   "outputs": [],
   "source": [
    "# kde for full run \n",
    "samples_full = td_samples['full']\n",
    "m1_full, m2_full = m1m2_from_mtotq(samples_full['mtotal'], samples_full['q'])\n",
    "chip_full_samples = chi_precessing(m1_full, samples_full['chi1'], samples_full['tilt1'],\n",
    "                          m2_full, samples_full['chi2'], samples_full['tilt2'])\n",
    "\n",
    "chip_grid, chip_full_kde_on_grid = reflected_kde(chip_full_samples, 0, 1)\n",
    "\n",
    "# kde for prior \n",
    "samples_prior = td_samples['prior']\n",
    "m1_prior, m2_prior = m1m2_from_mtotq(samples_prior['mtotal'], samples_prior['q'])\n",
    "chip_prior_samples = chi_precessing(m1_prior, samples_prior['chi1'], samples_prior['tilt1'],\n",
    "                          m2_prior, samples_prior['chi2'], samples_prior['tilt2'])\n",
    "\n",
    "_, chip_prior_kde_on_grid = reflected_kde(chip_prior_samples, 0, 1)"
   ]
  },
  {
   "cell_type": "markdown",
   "id": "64f8a71c-cdc7-4adb-ba65-ee022efd28a4",
   "metadata": {},
   "source": [
    "### Load in data: strain timeseries"
   ]
  },
  {
   "cell_type": "markdown",
   "id": "c4649d5e-b4fb-47e1-9bd2-29c7c5d86253",
   "metadata": {},
   "source": [
    "Load in time-domain data from the detectors"
   ]
  },
  {
   "cell_type": "code",
   "execution_count": 3,
   "id": "26241b40-41f6-4326-8ae2-a1ded4bbef99",
   "metadata": {
    "tags": []
   },
   "outputs": [],
   "source": [
    "data_dict =  np.load(data_dir+'LVC_strain_data.npy', allow_pickle=True).item()\n",
    "wh_data_dict =  np.load(data_dir+'LVC_strain_data_whitened.npy', allow_pickle=True).item()\n",
    "time_dict_data =  np.load(data_dir+'LVC_time_data.npy', allow_pickle=True).item()"
   ]
  },
  {
   "cell_type": "markdown",
   "id": "81874d46",
   "metadata": {},
   "source": [
    "Load in reconstructions from before/after each cutoff time"
   ]
  },
  {
   "cell_type": "code",
   "execution_count": 4,
   "id": "a7a62ee8",
   "metadata": {},
   "outputs": [],
   "source": [
    "reconstruction_dict_all = np.load(data_dir+\"waveform_reconstructions_all_detectors.npy\", allow_pickle=True).item()\n",
    "reconstruction_dict = {k:reconstruction_dict_all[k]['L1'] for k in reconstruction_dict_all.keys()}"
   ]
  },
  {
   "cell_type": "markdown",
   "id": "0368b3ef",
   "metadata": {},
   "source": [
    "Load in the SNRs corresponding to the reconstructions"
   ]
  },
  {
   "cell_type": "code",
   "execution_count": 16,
   "id": "d06f58b5",
   "metadata": {},
   "outputs": [],
   "source": [
    "# Load\n",
    "snr_dict = np.load(data_dir+\"snrs.npy\", allow_pickle=True).item()\n",
    "\n",
    "# Format into how we want to label them on the figure\n",
    "snr_labels = {}\n",
    "for run, snrs in snr_dict['L1'].items(): \n",
    "\n",
    "    # Calculate network SNR array\n",
    "    network_snrs = np.asarray([\n",
    "        np.sqrt(sum([snr**2 for snr in [L, H, V]])) for L, H, V in zip(snr_dict['L1'][run], \n",
    "                                                                       snr_dict['H1'][run], \n",
    "                                                                       snr_dict['V1'][run])\n",
    "    ])\n",
    "    \n",
    "    # Calculate 5%, 50%, and 95% confidence intervals\n",
    "    lower_CI, median, upper_CI = np.quantile(network_snrs[~np.isnan(network_snrs)], (0.05, 0.5, 0.95))\n",
    "    \n",
    "    # Get errorbars\n",
    "    upper_ebar = upper_CI - median\n",
    "    lower_ebar = median - lower_CI\n",
    "    \n",
    "    # Format\n",
    "    snr_str = f\"{median:.1f}^{{+{upper_ebar:.1f}}}_{{-{lower_ebar:.1f}}}\"\n",
    "    snr_labels[run] = snr_str"
   ]
  },
  {
   "cell_type": "markdown",
   "id": "e409a069-e699-42fd-9d60-9477b29eba16",
   "metadata": {},
   "source": [
    "Define cutoff times "
   ]
  },
  {
   "cell_type": "code",
   "execution_count": 12,
   "id": "49460133-4148-4102-a255-fca97e5aea6f",
   "metadata": {
    "tags": []
   },
   "outputs": [],
   "source": [
    "# 0M <-> seconds\n",
    "t0_0M_dict = {}\n",
    "t0_0M_geo = 1242442967.405764\n",
    "dt_10M = 0.0127 # 10 M = 12.7 ms \n",
    "dt_1M = dt_10M/10.\n",
    "\n",
    "tstart = 1242442966.9077148\n",
    "tend = 1242442967.607715\n",
    "ra = 6.07546535866838\n",
    "dec = -0.8000357325337637\n",
    "\n",
    "# define t_0M in each detector in seconds\n",
    "for ifo in ['H1', 'L1', 'V1']: \n",
    "    \n",
    "    t_delay = lal.TimeDelayFromEarthCenter(lal.cached_detector_by_prefix[ifo].location, ra, dec, t0_0M_geo)\n",
    "    t0_0M_dict[ifo] = t0_0M_geo + t_delay\n",
    "    \n",
    "# Max p strain from full run\n",
    "lnP = reconstruction_dict['full']['params']['ln_posterior']\n",
    "i_maxP = np.argmax(lnP)\n",
    "L1_maxP_strain = np.asarray(reconstruction_dict['full']['h'][i_maxP])\n",
    "L1_maxP_strain_wh = np.asarray(reconstruction_dict['full']['wh'][i_maxP])\n",
    "L1_maxP_strain_bp = np.asarray(reconstruction_dict['full']['bp'][i_maxP])\n",
    "\n",
    "# L1 strain\n",
    "L1_LVC_strain = data_dict['L1']\n",
    "L1_LVC_strain_wh = wh_data_dict['L1']\n",
    "\n",
    "# Transform timeseries into into units of M\n",
    "reconstruction_times_M = (reconstruction_dict['time samples']- t0_0M_dict['L1'])/dt_1M\n",
    "L1_times_M = (time_dict_data['L1'] - t0_0M_dict['L1'])/dt_1M"
   ]
  },
  {
   "cell_type": "markdown",
   "id": "3c751068",
   "metadata": {},
   "source": [
    "Print some maxP parameters from full signal analysis:"
   ]
  },
  {
   "cell_type": "code",
   "execution_count": 13,
   "id": "cdfbe9fd",
   "metadata": {},
   "outputs": [
    {
     "name": "stdout",
     "output_type": "stream",
     "text": [
      "max P chi_p =  0.6242038304675497\n",
      "max P mtotal =  267.1669838180254\n",
      "max P q =  0.8892538113223768\n"
     ]
    }
   ],
   "source": [
    "maxP_params = reconstruction_dict['full']['params'][i_maxP]\n",
    "\n",
    "m1_maxP, m2_maxP = m1m2_from_mtotq(maxP_params['mtotal'], maxP_params['q'])\n",
    "chip_maxP = chi_precessing(m1_maxP, maxP_params['chi1'], maxP_params['tilt1'], \n",
    "                           m2_maxP, maxP_params['chi2'], maxP_params['tilt2'])\n",
    "\n",
    "print('max P chi_p = ', chip_maxP)\n",
    "print('max P mtotal = ', maxP_params['mtotal'])\n",
    "print('max P q = ',  maxP_params['q'])"
   ]
  },
  {
   "cell_type": "markdown",
   "id": "c70f8ce6-36a7-4f96-b51d-3e8ab00dfdea",
   "metadata": {},
   "source": [
    "### Make figure"
   ]
  },
  {
   "cell_type": "code",
   "execution_count": null,
   "id": "21d01a58",
   "metadata": {
    "tags": []
   },
   "outputs": [
    {
     "name": "stderr",
     "output_type": "stream",
     "text": [
      "/var/folders/w7/r9xkmg4d7n18hlq715yknq9w0000gq/T/ipykernel_4954/802020596.py:139: UserWarning: FixedFormatter should only be used together with FixedLocator\n",
      "  axes[j][0].set_xticklabels(['0', '0.25', '0.5', '0.75', '1'])\n"
     ]
    }
   ],
   "source": [
    "# Define times to plot\n",
    "tc_to_plot = ['m40M', 'm20M', 'm10M', '20M', '30M']\n",
    "n_to_plot = len(tc_to_plot)\n",
    "\n",
    "# Cast strings to floats\n",
    "tc_floats = []\n",
    "for tc_str in tc_to_plot:\n",
    "    if tc_str[0]=='m':\n",
    "        tc_str_trimmed = tc_str[1:-1]\n",
    "    else:\n",
    "        tc_str_trimmed = tc_str[0:-1]     \n",
    "    tc_float = -1*float(tc_str_trimmed) if tc_str[0]=='m' else float(tc_str_trimmed) \n",
    "    tc_floats.append(tc_float)\n",
    "\n",
    "# Make figure \n",
    "fig, axes = plt.subplots(n_to_plot, 3, figsize=(15/1.3, 25*n_to_plot/8/1.3))\n",
    "\n",
    "for ax in axes:\n",
    "    for a in ax:\n",
    "        a.set_rasterization_zorder(2)\n",
    "\n",
    "for j,tc in enumerate(tc_floats):  \n",
    "    \n",
    "    # String for labeling the time step\n",
    "    tc_str = tc_to_plot[j]\n",
    "    lbl = tc_str.replace('m', '-') if tc_str[0]=='m' else tc_str\n",
    "    lbl = lbl.replace('M', '\\,M_\\mathrm{ref}')\n",
    "    \n",
    "    # Middle plots: bandpassed waveforms with cutoff\n",
    "    x_lims = [-100, 70]\n",
    "    \n",
    "    for k in [1,2]:\n",
    "        if j==0:\n",
    "            top_ax = axes[j][k].twiny()\n",
    "            top_ax.plot(L1_times_M*dt_1M, L1_LVC_strain/(1e-22), color='k', alpha=0, zorder=3)\n",
    "            top_ax.set_xlabel(r'$t~[s] $', fontsize=16, labelpad=10)\n",
    "            top_ax.set_xlim(x_lims[0]*dt_1M, x_lims[1]*dt_1M)\n",
    "            top_ax.grid(visible=False)\n",
    "            axes[j][k].patch.set_visible(False)\n",
    "\n",
    "        else:\n",
    "            axes[j][k].plot(L1_times_M, L1_LVC_strain/(1e-22), color='k', alpha=0, zorder=3)\n",
    "            \n",
    "        axes[j][k].plot(reconstruction_times_M, L1_maxP_strain/(1e-22), color='k')\n",
    "        axes[j][k].axvline(tc, ls='--', color='k', zorder=4)\n",
    "\n",
    "        if j!=n_to_plot-1: \n",
    "            axes[j][k].set_xticklabels([])\n",
    "        else: \n",
    "            axes[j][k].set_xlabel(r'$t~[M_\\mathrm{ref}]$', fontsize=16)\n",
    "\n",
    "        # Plot reconstructions before/after the cutoff\n",
    "        n_reconstruction_to_plot = 300\n",
    "        alpha_reconstruct = 0.02\n",
    "        shading_kws = dict(hatch='/',  alpha=0.3, color='gray')\n",
    "        if k==1:\n",
    "            try:\n",
    "                reconstructions = np.asarray(reconstruction_dict[f'insp {tc_str}']['h'])\n",
    "            except: \n",
    "                reconstructions = np.asarray(reconstruction_dict['prior']['h'])\n",
    "                \n",
    "            idxs_to_plot = np.random.choice(reconstructions.shape[0], size=n_reconstruction_to_plot)\n",
    "            color = cp[0]\n",
    "            axes[j][k].plot(reconstruction_times_M, np.transpose(reconstructions[idxs_to_plot,:])/(1e-22), \n",
    "                            color=color, alpha=alpha_reconstruct, zorder=1)\n",
    "            \n",
    "            axes[j][k].axvspan(tc, x_lims[-1], **shading_kws, zorder=0)\n",
    "            \n",
    "            snr_lbl = snr_labels[f'insp {tc_str}']\n",
    "\n",
    "        else:\n",
    "            reconstructions = np.asarray(reconstruction_dict[f'rd {tc_str}']['h'])\n",
    "            \n",
    "            idxs_to_plot = np.random.choice(reconstructions.shape[0], size=n_reconstruction_to_plot)\n",
    "            color = cp2[1]\n",
    "            axes[j][k].plot(reconstruction_times_M, np.transpose(reconstructions[idxs_to_plot,:])/(1e-22), \n",
    "                            color=color, alpha=alpha_reconstruct, zorder=1)\n",
    "            \n",
    "            axes[j][k].axvspan(x_lims[0], tc, **shading_kws, zorder=0)\n",
    "            \n",
    "            snr_lbl = snr_labels[f'rd {tc_str}']\n",
    "\n",
    "        axes[j][k].grid(color='silver', ls=':', alpha=0.7)\n",
    "        axes[j][k].set_xlim(*x_lims)\n",
    "        axes[j][k].set_ylim(-7, 7)\n",
    "        \n",
    "        # Add label for cutoff time\n",
    "        textloc = tc + 4 if tc < 25 else tc - 43\n",
    "        axes[j][k].text(textloc, 5, f'${lbl}$', color='k', fontsize=15, zorder=5)\n",
    "        \n",
    "        # Add label for SNR \n",
    "        axes[j][k].text(-92, -5.7, f'$\\mathrm{{SNR}} = {snr_lbl}$', color='k', fontsize=13, zorder=5, \n",
    "                       bbox=dict(facecolor='white', edgecolor=color, boxstyle='round', alpha=0.9))\n",
    "\n",
    "    axes[j][2].yaxis.set_label_position(\"right\")\n",
    "    axes[j][2].yaxis.tick_right()\n",
    "    axes[j][2].set_ylabel(r'$h/10^{-22}$', fontsize=16)\n",
    "    axes[j][1].set_yticklabels([])\n",
    "    \n",
    "    \n",
    "    dx = -0.05\n",
    "    x0, y0, x1, y1 = axes[j][1].get_position().bounds\n",
    "    axes[j][1].set_position([x0+dx+0.0375, y0, x1, y1])\n",
    "    x0, y0, x1, y1 = axes[j][2].get_position().bounds\n",
    "    axes[j][2].set_position([x0+dx, y0, x1, y1])\n",
    "    \n",
    "    # Righthand plots: chi_p posteriors\n",
    "    try:\n",
    "        samples_insp = td_samples[f'insp {tc_str}']\n",
    "        m1_insp, m2_insp = m1m2_from_mtotq(samples_insp['mtotal'], samples_insp['q'])\n",
    "        chip_insp = chi_precessing(m1_insp, samples_insp['chi1'], samples_insp['tilt1'], \n",
    "                                   m2_insp, samples_insp['chi2'], samples_insp['tilt2'])\n",
    "    except: \n",
    "        samples_insp = td_samples['prior']\n",
    "        mask = np.random.choice(len(samples_insp), size=len(td_samples[f'rd {tc_str}']))\n",
    "        m1_insp, m2_insp = m1m2_from_mtotq(samples_insp['mtotal'][mask], samples_insp['q'][mask])\n",
    "        chip_insp = chi_precessing(m1_insp, samples_insp['chi1'][mask], samples_insp['tilt1'][mask], \n",
    "                                   m2_insp, samples_insp['chi2'][mask], samples_insp['tilt2'][mask])\n",
    "    \n",
    "    samples_rd = td_samples[f'rd {tc_str}']\n",
    "    m1_rd, m2_rd = m1m2_from_mtotq(samples_rd['mtotal'], samples_rd['q'])\n",
    "    chip_rd = chi_precessing(m1_rd, samples_rd['chi1'], samples_rd['tilt1'],\n",
    "                                m2_rd, samples_rd['chi2'], samples_rd['tilt2'])\n",
    "    \n",
    "    axes[j][0].hist(chip_insp, histtype='step', bins=np.linspace(0,1,30), lw=1.5, \n",
    "                    color=cp[0], density=True)\n",
    "    axes[j][0].hist(chip_rd, histtype='step', bins=np.linspace(0,1,30), lw=1.5, \n",
    "                    color=cp2[1], density=True)\n",
    "    \n",
    "    axes[j][0].plot(chip_grid, chip_full_kde_on_grid, color='k')\n",
    "    prior_kws = dict(color='dimgray', ls=':')\n",
    "    axes[j][0].plot(chip_grid, chip_prior_kde_on_grid, **prior_kws, lw=2)\n",
    "    \n",
    "    axes[j][0].set_ylabel(r'$p(\\chi_\\mathrm{p})$', fontsize=16)\n",
    "    if j!=n_to_plot-1: \n",
    "        axes[j][0].set_xticklabels([])\n",
    "    else: \n",
    "        axes[j][0].set_xlabel(r'$\\chi_\\mathrm{p}$', fontsize=16)\n",
    "        axes[j][0].set_xticklabels(['0', '0.25', '0.5', '0.75', '1'])\n",
    "    axes[j][0].set_xlim(0,1)\n",
    "    axes[j][0].set_ylim(0,2.6)\n",
    "    axes[j][0].grid(color='silver', ls=':', alpha=0.7)\n",
    "\n",
    "    \n",
    "    # Inset axis in leftmost column with whitened strain\n",
    "    l = 0.4\n",
    "    w = 0.3\n",
    "    dx = 0.04\n",
    "    axin = axes[j][0].inset_axes([dx-0.01, 1-dx-w, l, w])\n",
    "    axin.plot(L1_times_M, L1_LVC_strain_wh, color='silver', lw=0.5)\n",
    "    axin.plot(reconstruction_times_M, L1_maxP_strain_wh, color='k', lw=0.75)\n",
    "    axin.axvline(tc, ls='--', color='k')\n",
    "    axin.axvspan(tc, x_lims[-1], color=cp2[1], alpha=0.3, zorder=0)\n",
    "    axin.axvspan(x_lims[0], tc, color=cp[0], alpha=0.3, zorder=0)\n",
    "    axin.set_xlim(-60, 70)\n",
    "    axin.set_ylim(-3.5, 3)\n",
    "    axin.set_xticklabels([])\n",
    "    axin.set_yticklabels([])\n",
    "    \n",
    "for ax in axes: \n",
    "    for a in ax:\n",
    "        x0, y0, x1, y1 = a.get_position().bounds\n",
    "        a.set_position([x0, y0, x1, y1+0.05/n_to_plot])\n",
    "\n",
    "# Legend\n",
    "handles = [\n",
    "    Line2D([], [], color=cp[0], label='pre-cutoff analysis'),\n",
    "    Line2D([], [], color=cp2[1], label='post-cutoff analysis'),\n",
    "    Line2D([], [], color='k', label='full analysis'),\n",
    "    Line2D([], [], **prior_kws, label='prior')\n",
    "]\n",
    "leg = axes[0][2].legend(\n",
    "    handles=handles, \n",
    "    bbox_to_anchor=(-2.15, 1.4, 3.2, .102), loc='lower left', ncols=4, \n",
    "    mode=\"expand\", borderaxespad=0., frameon=False, fontsize=14, handlelength=3\n",
    ")\n",
    "for i, h in enumerate(handles):\n",
    "    leg.get_lines()[i].set_linewidth(3)\n",
    "\n",
    "plt.savefig('figure_01.pdf', bbox_inches='tight')\n",
    "plt.show()"
   ]
  },
  {
   "cell_type": "code",
   "execution_count": null,
   "id": "707e6ccb",
   "metadata": {},
   "outputs": [],
   "source": []
  },
  {
   "cell_type": "code",
   "execution_count": null,
   "id": "58e0249a",
   "metadata": {},
   "outputs": [],
   "source": []
  }
 ],
 "metadata": {
  "kernelspec": {
   "display_name": "Python 3 (ipykernel)",
   "language": "python",
   "name": "python3"
  },
  "language_info": {
   "codemirror_mode": {
    "name": "ipython",
    "version": 3
   },
   "file_extension": ".py",
   "mimetype": "text/x-python",
   "name": "python",
   "nbconvert_exporter": "python",
   "pygments_lexer": "ipython3",
   "version": "3.10.10"
  }
 },
 "nbformat": 4,
 "nbformat_minor": 5
}
